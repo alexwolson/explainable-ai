{
 "cells": [
  {
   "metadata": {},
   "cell_type": "markdown",
   "source": [
    "# LIME with XGBoost\n",
    "\n",
    "In this notebook, we will again use the Titanic dataset, but this time we will use the LIME package to explain the predictions of an XGBoost model. "
   ],
   "id": "b022c61604bec9ac"
  },
  {
   "cell_type": "code",
   "id": "initial_id",
   "metadata": {
    "collapsed": true
   },
   "source": [
    "# Install the necessary libraries\n",
    "\n",
    "# !pip install -q dalex xgboost lime"
   ],
   "outputs": [],
   "execution_count": null
  },
  {
   "metadata": {},
   "cell_type": "code",
   "source": [
    "import dalex as dx\n",
    "import xgboost\n",
    "import lime\n",
    "\n",
    "import pandas as pd\n",
    "import numpy as np\n",
    "\n",
    "import warnings\n",
    "warnings.filterwarnings(\"ignore\")"
   ],
   "id": "79aaa984c436e9bf",
   "outputs": [],
   "execution_count": null
  },
  {
   "metadata": {},
   "cell_type": "markdown",
   "source": [
    "### Load and Preprocess Data\n",
    "\n",
    "`lime.lime_tabular.LimeTabularExplainer` assumes integer-encoded categorical variables by the following parameters:\n",
    "\n",
    "- `categorical_features` – list of indices (ints) corresponding to the categorical columns. Everything else will be considered continuous. Values in these columns MUST be integers.\n",
    "\n",
    "- `categorical_names` – map from int to list of names, where `categorical_names[x][y]` represents the name of the yth value of column x.\n",
    "\n",
    "But, XGBoost assumes categorical variables of strict category type.\n",
    "\n",
    "The challenge is to make one work with the other. First, let's use one-hot encoding."
   ],
   "id": "1dcfe204d4649fec"
  },
  {
   "metadata": {},
   "cell_type": "code",
   "source": [
    "df = dx.datasets.load_titanic()\n",
    "\n",
    "X = df.drop(columns='survived')\n",
    "X = pd.get_dummies(X, columns=['gender', 'class', 'embarked'], drop_first=True)\n",
    "y = df.survived"
   ],
   "id": "ccc6cf4d8045bb51",
   "outputs": [],
   "execution_count": null
  },
  {
   "metadata": {},
   "cell_type": "code",
   "source": [
    "# Split the data\n",
    "from sklearn.model_selection import train_test_split\n",
    "\n",
    "X_train, X_test, y_train, y_test = train_test_split(X, y, test_size=0.2, random_state=42)"
   ],
   "id": "5fe8ff4fe528f2d7",
   "outputs": [],
   "execution_count": null
  },
  {
   "metadata": {},
   "cell_type": "markdown",
   "source": "### Train the Model",
   "id": "6d702471b90745d1"
  },
  {
   "metadata": {},
   "cell_type": "code",
   "source": [
    "model = xgboost.XGBClassifier(\n",
    "    n_estimators=200,\n",
    "    max_depth=4,\n",
    "    use_label_encoder=False,\n",
    "    eval_metric=\"logloss\"\n",
    ")\n",
    "model.fit(X_train, y_train)"
   ],
   "id": "89774c6e86950108",
   "outputs": [],
   "execution_count": null
  },
  {
   "metadata": {},
   "cell_type": "markdown",
   "source": [
    "### Explain the Model with LIME & dalex\n",
    "\n",
    "dalex uses the original lime package to estimate LIME under a unified API.\n",
    "\n",
    "dalex aims to improve the user's conveninence by:\n",
    "\n",
    "- combining the use of LimeTabularExplainer and explain_instance() into the one predict_surrogate() method,\n",
    "- automatically setting some of the lime parameters based on explainer.data, explainer.model_type etc.\n"
   ],
   "id": "891466329f208eac"
  },
  {
   "metadata": {},
   "cell_type": "code",
   "source": "explainer = dx.Explainer(model, X_train, y_train, label='XGBoost')",
   "id": "1a13f3d08853c533",
   "outputs": [],
   "execution_count": null
  },
  {
   "metadata": {},
   "cell_type": "code",
   "source": "explainer.model_performance(cutoff=y.mean())",
   "id": "a02a44bec028d061",
   "outputs": [],
   "execution_count": null
  },
  {
   "metadata": {},
   "cell_type": "code",
   "source": [
    "observation = X.iloc[[0]]\n",
    "explainer.predict(observation)"
   ],
   "id": "342dd21b441cb69a",
   "outputs": [],
   "execution_count": null
  },
  {
   "metadata": {},
   "cell_type": "code",
   "source": [
    "predict_fn = lambda x: model.predict_proba(x).astype(float)\n",
    "explanation = explainer.predict_surrogate(observation, predict_fn=predict_fn)"
   ],
   "id": "bd9e3c4a90501fe9",
   "outputs": [],
   "execution_count": null
  },
  {
   "metadata": {},
   "cell_type": "code",
   "source": "explanation.result",
   "id": "493d73be8a2d69b5",
   "outputs": [],
   "execution_count": null
  },
  {
   "metadata": {},
   "cell_type": "code",
   "source": "explanation.plot()",
   "id": "aa391a7d59158d00",
   "outputs": [],
   "execution_count": null
  },
  {
   "metadata": {},
   "cell_type": "markdown",
   "source": "Be careful! LIME algorithm, like many other explanations, involves randomness",
   "id": "37cdd6260025ee89"
  },
  {
   "metadata": {},
   "cell_type": "code",
   "source": [
    "import random\n",
    "import matplotlib.pyplot as plt\n",
    "\n",
    "for seed in range(4):\n",
    "    random.seed(seed)\n",
    "    np.random.seed(seed)\n",
    "    exp = explainer.predict_surrogate(observation, predict_fn=predict_fn)\n",
    "    exp.plot(return_figure=True)\n",
    "    plt.title(f'Explanation for observation id0 assuming random seed is {seed}')"
   ],
   "id": "e3c5b28396929825",
   "outputs": [],
   "execution_count": null
  },
  {
   "metadata": {},
   "cell_type": "markdown",
   "source": "### Explain with Lime",
   "id": "9fea141eb82a7cce"
  },
  {
   "metadata": {},
   "cell_type": "code",
   "source": [
    "lime_explainer = lime.lime_tabular.LimeTabularExplainer(\n",
    "    training_data=X_train.values,\n",
    "    feature_names=X_train.columns,\n",
    "    mode='classification',\n",
    ")"
   ],
   "id": "911f46ad9742a5ba",
   "outputs": [],
   "execution_count": null
  },
  {
   "metadata": {},
   "cell_type": "code",
   "source": [
    "lime_explanation = lime_explainer.explain_instance(\n",
    "    data_row=observation.iloc[0],\n",
    "    predict_fn=lambda d: model.predict_proba(d)\n",
    ")   "
   ],
   "id": "19b74e0ffba7a3dd",
   "outputs": [],
   "execution_count": null
  },
  {
   "metadata": {},
   "cell_type": "code",
   "source": "lime_explanation.as_list()",
   "id": "4de3c4511a6e9bf2",
   "outputs": [],
   "execution_count": null
  },
  {
   "metadata": {},
   "cell_type": "code",
   "source": "lime_explanation.as_pyplot_figure()",
   "id": "102864015932e6eb",
   "outputs": [],
   "execution_count": null
  },
  {
   "metadata": {},
   "cell_type": "code",
   "source": "lime_explanation.show_in_notebook()",
   "id": "4af687a0432f2571",
   "outputs": [],
   "execution_count": null
  },
  {
   "metadata": {},
   "cell_type": "code",
   "source": "",
   "id": "2c8aff8ee1134cbd",
   "outputs": [],
   "execution_count": null
  }
 ],
 "metadata": {
  "kernelspec": {
   "display_name": "Python 3",
   "language": "python",
   "name": "python3"
  },
  "language_info": {
   "codemirror_mode": {
    "name": "ipython",
    "version": 2
   },
   "file_extension": ".py",
   "mimetype": "text/x-python",
   "name": "python",
   "nbconvert_exporter": "python",
   "pygments_lexer": "ipython2",
   "version": "2.7.6"
  }
 },
 "nbformat": 4,
 "nbformat_minor": 5
}
