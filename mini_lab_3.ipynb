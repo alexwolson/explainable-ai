{
 "cells": [
  {
   "metadata": {},
   "cell_type": "markdown",
   "source": "# CP and PDP with XGBoost",
   "id": "bc12dbe27abfdfc3"
  },
  {
   "cell_type": "code",
   "id": "initial_id",
   "metadata": {
    "collapsed": true
   },
   "source": [
    "import dalex as dx\n",
    "import xgboost\n",
    "\n",
    "import sklearn\n",
    "\n",
    "import pandas as pd\n",
    "\n",
    "import warnings\n",
    "warnings.filterwarnings(\"ignore\")"
   ],
   "outputs": [],
   "execution_count": null
  },
  {
   "metadata": {},
   "cell_type": "code",
   "source": [
    "df = dx.datasets.load_titanic()\n",
    "\n",
    "X = df.drop(columns='survived')\n",
    "X = pd.get_dummies(X, columns=[\"gender\", \"class\", \"embarked\"], drop_first=True)\n",
    "y = df.survived\n",
    "\n",
    "X_train, X_test, y_train, y_test = sklearn.model_selection.train_test_split( X, y, test_size=0.33, random_state=42)"
   ],
   "id": "328bfda4b825133e",
   "outputs": [],
   "execution_count": null
  },
  {
   "metadata": {},
   "cell_type": "code",
   "source": [
    "model = xgboost.XGBClassifier(\n",
    "    n_estimators=50,\n",
    "    max_depth=2,\n",
    "    use_label_encoder=False,\n",
    "    eval_metric=\"logloss\",\n",
    "    enable_categorical=True,\n",
    "    tree_method=\"hist\"\n",
    ")\n",
    "\n",
    "model.fit(X_train, y_train)"
   ],
   "id": "13a0355124af1a02",
   "outputs": [],
   "execution_count": null
  },
  {
   "metadata": {},
   "cell_type": "code",
   "source": [
    "def pf_xgboost_classifier_categorical(model, df):\n",
    "    df.loc[:, df.dtypes == 'object'] = \\\n",
    "        df.select_dtypes(['object']) \\\n",
    "            .apply(lambda x: x.astype('category'))\n",
    "    return model.predict_proba(df)[:, 1]\n",
    "\n",
    "explainer = dx.Explainer(model, X_test, y_test, predict_function=pf_xgboost_classifier_categorical)"
   ],
   "id": "678bbe3590bcc2ae",
   "outputs": [],
   "execution_count": null
  },
  {
   "metadata": {},
   "cell_type": "code",
   "source": "explainer.model_performance()",
   "id": "bfd190a1f145acbb",
   "outputs": [],
   "execution_count": null
  },
  {
   "metadata": {},
   "cell_type": "code",
   "source": "explainer.model_parts().result",
   "id": "c1b175822c99647b",
   "outputs": [],
   "execution_count": null
  },
  {
   "metadata": {},
   "cell_type": "markdown",
   "source": [
    "# Ceteris Paribus\n",
    "\n",
    "Now we will calculate the Ceteris Paribus profiles for the observation number 400.\n",
    "\n",
    "See the API documentation for all possible parameters:\n",
    "\n",
    "- [Explainer.predict_profile](https://dalex.drwhy.ai/python/reference/dalex.explainer.Explainer.html#dalex.explainer.Explainer.predict_profile)\n",
    "- [CeterisParibus](https://dalex.drwhy.ai/python/reference/dalex.cp.CeterisParibus.html)\n",
    "- [CeterisParibus.plot](https://dalex.drwhy.ai/python/reference/dalex.cp.CeterisParibus.html#dalex.cp.CeterisParibus.plot)"
   ],
   "id": "cdfe32089ae11530"
  },
  {
   "metadata": {},
   "cell_type": "code",
   "source": "cp = explainer.predict_profile(new_observation=X.iloc[[400]])",
   "id": "50508cc919be600f",
   "outputs": [],
   "execution_count": null
  },
  {
   "metadata": {},
   "cell_type": "code",
   "source": "cp.plot(variables=[\"age\", \"sibsp\"])",
   "id": "72de01aaa69ba825",
   "outputs": [],
   "execution_count": null
  },
  {
   "metadata": {},
   "cell_type": "markdown",
   "source": "We can also calculate the profiles for multiple observations at once.",
   "id": "8ef20f8ee819efbb"
  },
  {
   "metadata": {},
   "cell_type": "code",
   "source": [
    "cp_10 = explainer.predict_profile(new_observation=X.iloc[400:410])\n",
    "cp_10.plot(variables=[\"age\", \"sibsp\"])"
   ],
   "id": "70e7d7a8c57229d2",
   "outputs": [],
   "execution_count": null
  },
  {
   "metadata": {},
   "cell_type": "markdown",
   "source": [
    "### Partial Dependence Plots\n",
    "\n",
    "Now we will calculate the Partial Dependence Plots."
   ],
   "id": "9a7e12cb3abb6e0"
  },
  {
   "metadata": {},
   "cell_type": "code",
   "source": "pdp = explainer.model_profile()",
   "id": "ce51c3f371fbc603",
   "outputs": [],
   "execution_count": null
  },
  {
   "metadata": {},
   "cell_type": "code",
   "source": "pdp.result",
   "id": "9f596cac823ad26e",
   "outputs": [],
   "execution_count": null
  },
  {
   "metadata": {},
   "cell_type": "code",
   "source": "pdp.plot(variables=[\"age\", \"fare\"])",
   "id": "c172fe82704db693",
   "outputs": [],
   "execution_count": null
  },
  {
   "metadata": {},
   "cell_type": "code",
   "source": "pdp.plot(variables=[\"age\", \"fare\"], geom=\"profiles\", title=\"Partial Dependence Plot with individual profiles\")",
   "id": "7657b01cc243cdba",
   "outputs": [],
   "execution_count": null
  },
  {
   "metadata": {},
   "cell_type": "markdown",
   "source": "We can compare the profiles for different groups, such as by recorded gender:",
   "id": "84091c95d45586be"
  },
  {
   "metadata": {},
   "cell_type": "code",
   "source": "pdp_grouped = explainer.model_profile(groups=\"gender_male\")",
   "id": "635f63645ef1e201",
   "outputs": [],
   "execution_count": null
  },
  {
   "metadata": {},
   "cell_type": "code",
   "source": "pdp_grouped.plot(variables=[\"age\", \"fare\"], title=\"PDP\")",
   "id": "3c4bdea9ee1a0927",
   "outputs": [],
   "execution_count": null
  },
  {
   "metadata": {},
   "cell_type": "markdown",
   "source": [
    "### Comparing Models\n",
    "\n",
    "Create a larger model with more trees, copying the code from above. Name it `model_large`."
   ],
   "id": "46a6f59dbe08b274"
  },
  {
   "metadata": {},
   "cell_type": "code",
   "source": "### Your code here",
   "id": "fc5a9e735261c19a",
   "outputs": [],
   "execution_count": null
  },
  {
   "metadata": {},
   "cell_type": "code",
   "source": [
    "explainer_large = dx.Explainer(\n",
    "    model_large,\n",
    "    X_test,\n",
    "    y_test,\n",
    "    predict_function=pf_xgboost_classifier_categorical,\n",
    "    label=\"Larger XGBoost\",\n",
    "    verbose=False\n",
    ")"
   ],
   "id": "47dae10f810cc2ea",
   "outputs": [],
   "execution_count": null
  },
  {
   "metadata": {},
   "cell_type": "markdown",
   "source": "Now we can compare the two models.",
   "id": "b6fee47f2891f2c2"
  },
  {
   "metadata": {},
   "cell_type": "code",
   "source": "pd.concat([explainer.model_performance().result, explainer_large.model_performance().result])",
   "id": "d01d18e1ddb44a35",
   "outputs": [],
   "execution_count": null
  },
  {
   "metadata": {},
   "cell_type": "code",
   "source": "pdp_large = explainer_large.model_profile()",
   "id": "ad21e30cb756c1b7",
   "outputs": [],
   "execution_count": null
  },
  {
   "metadata": {},
   "cell_type": "code",
   "source": "pdp_large.plot(pdp, variables=[\"age\", \"fare\"], title=\"PDP\")",
   "id": "e806569c21a66c23",
   "outputs": [],
   "execution_count": null
  }
 ],
 "metadata": {
  "kernelspec": {
   "display_name": "Python 3",
   "language": "python",
   "name": "python3"
  },
  "language_info": {
   "codemirror_mode": {
    "name": "ipython",
    "version": 2
   },
   "file_extension": ".py",
   "mimetype": "text/x-python",
   "name": "python",
   "nbconvert_exporter": "python",
   "pygments_lexer": "ipython2",
   "version": "2.7.6"
  }
 },
 "nbformat": 4,
 "nbformat_minor": 5
}
