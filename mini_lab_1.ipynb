{
 "cells": [
  {
   "metadata": {},
   "cell_type": "markdown",
   "source": [
    "# SHAP with XGBoost\n",
    "\n",
    "In this notebook, we will use the Titanic dataset to predict the survival of passengers using XGBoost. We will use SHAP to explain the predictions of the models.\n",
    "\n",
    "### Install and import the necessary libraries"
   ],
   "id": "7418d848fe06366f"
  },
  {
   "metadata": {},
   "cell_type": "code",
   "source": [
    "# Install the necessary libraries\n",
    "\n",
    "# !pip install -q dalex xgboost shap"
   ],
   "id": "ab814e0a452ef99c",
   "outputs": [],
   "execution_count": null
  },
  {
   "metadata": {
    "ExecuteTime": {
     "end_time": "2024-07-23T20:00:58.880913Z",
     "start_time": "2024-07-23T20:00:56.471003Z"
    }
   },
   "cell_type": "code",
   "source": [
    "# Import the necessary libraries\n",
    "import dalex as dx\n",
    "import xgboost as xgb\n",
    "import shap\n",
    "\n",
    "import pandas as pd\n",
    "\n",
    "import warnings\n",
    "warnings.filterwarnings('ignore')"
   ],
   "id": "ba639eb34f302358",
   "outputs": [],
   "execution_count": 1
  },
  {
   "metadata": {},
   "cell_type": "markdown",
   "source": "### Load the Titanic dataset",
   "id": "1a3927bcb50871ff"
  },
  {
   "metadata": {
    "ExecuteTime": {
     "end_time": "2024-07-23T20:00:58.903081Z",
     "start_time": "2024-07-23T20:00:58.882686Z"
    }
   },
   "cell_type": "code",
   "source": [
    "df = dx.datasets.load_titanic()\n",
    "df.head()"
   ],
   "id": "9e625655b3f89275",
   "outputs": [
    {
     "data": {
      "text/plain": [
       "   gender   age class     embarked   fare  sibsp  parch  survived\n",
       "0    male  42.0   3rd  Southampton   7.11      0      0         0\n",
       "1    male  13.0   3rd  Southampton  20.05      0      2         0\n",
       "2    male  16.0   3rd  Southampton  20.05      1      1         0\n",
       "3  female  39.0   3rd  Southampton  20.05      1      1         1\n",
       "4  female  16.0   3rd  Southampton   7.13      0      0         1"
      ],
      "text/html": [
       "<div>\n",
       "<style scoped>\n",
       "    .dataframe tbody tr th:only-of-type {\n",
       "        vertical-align: middle;\n",
       "    }\n",
       "\n",
       "    .dataframe tbody tr th {\n",
       "        vertical-align: top;\n",
       "    }\n",
       "\n",
       "    .dataframe thead th {\n",
       "        text-align: right;\n",
       "    }\n",
       "</style>\n",
       "<table border=\"1\" class=\"dataframe\">\n",
       "  <thead>\n",
       "    <tr style=\"text-align: right;\">\n",
       "      <th></th>\n",
       "      <th>gender</th>\n",
       "      <th>age</th>\n",
       "      <th>class</th>\n",
       "      <th>embarked</th>\n",
       "      <th>fare</th>\n",
       "      <th>sibsp</th>\n",
       "      <th>parch</th>\n",
       "      <th>survived</th>\n",
       "    </tr>\n",
       "  </thead>\n",
       "  <tbody>\n",
       "    <tr>\n",
       "      <th>0</th>\n",
       "      <td>male</td>\n",
       "      <td>42.0</td>\n",
       "      <td>3rd</td>\n",
       "      <td>Southampton</td>\n",
       "      <td>7.11</td>\n",
       "      <td>0</td>\n",
       "      <td>0</td>\n",
       "      <td>0</td>\n",
       "    </tr>\n",
       "    <tr>\n",
       "      <th>1</th>\n",
       "      <td>male</td>\n",
       "      <td>13.0</td>\n",
       "      <td>3rd</td>\n",
       "      <td>Southampton</td>\n",
       "      <td>20.05</td>\n",
       "      <td>0</td>\n",
       "      <td>2</td>\n",
       "      <td>0</td>\n",
       "    </tr>\n",
       "    <tr>\n",
       "      <th>2</th>\n",
       "      <td>male</td>\n",
       "      <td>16.0</td>\n",
       "      <td>3rd</td>\n",
       "      <td>Southampton</td>\n",
       "      <td>20.05</td>\n",
       "      <td>1</td>\n",
       "      <td>1</td>\n",
       "      <td>0</td>\n",
       "    </tr>\n",
       "    <tr>\n",
       "      <th>3</th>\n",
       "      <td>female</td>\n",
       "      <td>39.0</td>\n",
       "      <td>3rd</td>\n",
       "      <td>Southampton</td>\n",
       "      <td>20.05</td>\n",
       "      <td>1</td>\n",
       "      <td>1</td>\n",
       "      <td>1</td>\n",
       "    </tr>\n",
       "    <tr>\n",
       "      <th>4</th>\n",
       "      <td>female</td>\n",
       "      <td>16.0</td>\n",
       "      <td>3rd</td>\n",
       "      <td>Southampton</td>\n",
       "      <td>7.13</td>\n",
       "      <td>0</td>\n",
       "      <td>0</td>\n",
       "      <td>1</td>\n",
       "    </tr>\n",
       "  </tbody>\n",
       "</table>\n",
       "</div>"
      ]
     },
     "execution_count": 2,
     "metadata": {},
     "output_type": "execute_result"
    }
   ],
   "execution_count": 2
  },
  {
   "metadata": {
    "ExecuteTime": {
     "end_time": "2024-07-23T20:00:58.912823Z",
     "start_time": "2024-07-23T20:00:58.904489Z"
    }
   },
   "cell_type": "code",
   "source": "df.info()",
   "id": "9d4657ef6c3e2a30",
   "outputs": [
    {
     "name": "stdout",
     "output_type": "stream",
     "text": [
      "<class 'pandas.core.frame.DataFrame'>\n",
      "RangeIndex: 2207 entries, 0 to 2206\n",
      "Data columns (total 8 columns):\n",
      " #   Column    Non-Null Count  Dtype  \n",
      "---  ------    --------------  -----  \n",
      " 0   gender    2207 non-null   object \n",
      " 1   age       2207 non-null   float64\n",
      " 2   class     2207 non-null   object \n",
      " 3   embarked  2207 non-null   object \n",
      " 4   fare      2207 non-null   float64\n",
      " 5   sibsp     2207 non-null   int64  \n",
      " 6   parch     2207 non-null   int64  \n",
      " 7   survived  2207 non-null   int64  \n",
      "dtypes: float64(2), int64(3), object(3)\n",
      "memory usage: 138.1+ KB\n"
     ]
    }
   ],
   "execution_count": 3
  },
  {
   "metadata": {},
   "cell_type": "markdown",
   "source": "The columns labelled 'object' as their dtype are categorical columns. We can convert them into a 'category' dtype so that they can be used in the model.",
   "id": "aa574d2f74643c3b"
  },
  {
   "metadata": {
    "ExecuteTime": {
     "end_time": "2024-07-23T20:00:58.923271Z",
     "start_time": "2024-07-23T20:00:58.914277Z"
    }
   },
   "cell_type": "code",
   "source": "df.loc[:, df.dtypes == 'object'] = df.select_dtypes(['object']).apply(lambda x: x.astype('category'))",
   "id": "68046e2758cde7ae",
   "outputs": [],
   "execution_count": 4
  },
  {
   "metadata": {
    "ExecuteTime": {
     "end_time": "2024-07-23T20:00:58.934196Z",
     "start_time": "2024-07-23T20:00:58.925986Z"
    }
   },
   "cell_type": "code",
   "source": "df.info()",
   "id": "1323483642a029f7",
   "outputs": [
    {
     "name": "stdout",
     "output_type": "stream",
     "text": [
      "<class 'pandas.core.frame.DataFrame'>\n",
      "RangeIndex: 2207 entries, 0 to 2206\n",
      "Data columns (total 8 columns):\n",
      " #   Column    Non-Null Count  Dtype  \n",
      "---  ------    --------------  -----  \n",
      " 0   gender    2207 non-null   object \n",
      " 1   age       2207 non-null   float64\n",
      " 2   class     2207 non-null   object \n",
      " 3   embarked  2207 non-null   object \n",
      " 4   fare      2207 non-null   float64\n",
      " 5   sibsp     2207 non-null   int64  \n",
      " 6   parch     2207 non-null   int64  \n",
      " 7   survived  2207 non-null   int64  \n",
      "dtypes: float64(2), int64(3), object(3)\n",
      "memory usage: 138.1+ KB\n"
     ]
    }
   ],
   "execution_count": 5
  },
  {
   "metadata": {},
   "cell_type": "markdown",
   "source": [
    "### Split the data into features and target\n",
    "\n",
    "We will also use the 'get_dummies' method to convert gender to a 0-1 encoding."
   ],
   "id": "a5e615c93ec35a0e"
  },
  {
   "metadata": {},
   "cell_type": "code",
   "source": [
    "X = df.drop('survived', axis=1)\n",
    "y = df['survived']\n",
    "\n",
    "X = pd.get_dummies(X, columns=['gender'], drop_first=True)"
   ],
   "id": "a826de3c3157c43a",
   "outputs": [],
   "execution_count": null
  },
  {
   "metadata": {},
   "cell_type": "code",
   "source": "X.head()",
   "id": "7e9afdb02592d893",
   "outputs": [],
   "execution_count": null
  },
  {
   "metadata": {},
   "cell_type": "markdown",
   "source": "### Split the data into training and testing sets",
   "id": "eac6d4b9ca6b87a7"
  },
  {
   "metadata": {},
   "cell_type": "code",
   "source": [
    "from sklearn.model_selection import train_test_split\n",
    "\n",
    "X_train, X_test, y_train, y_test = train_test_split(X, y, test_size=0.2, random_state=42)"
   ],
   "id": "3d62ebdccd75c503",
   "outputs": [],
   "execution_count": null
  },
  {
   "metadata": {},
   "cell_type": "markdown",
   "source": "### Create our XGBoost model",
   "id": "58e6b0627a15f779"
  },
  {
   "metadata": {},
   "cell_type": "code",
   "source": [
    "model = xgb.XGBClassifier(\n",
    "    n_estimators = 200,        # Number of trees to fit\n",
    "    max_depth = 4,             # Maximum tree depth for individual trees\n",
    "    use_label_encoder = False, # Leave this as False to avoid warnings\n",
    "    enable_categorical = True,  # Leave this as True to use categorical columns\n",
    "    tree_method = 'hist'       # Use a histogram-based method for faster training\n",
    ")"
   ],
   "id": "5f0a8b483c8ce9e",
   "outputs": [],
   "execution_count": null
  },
  {
   "metadata": {},
   "cell_type": "code",
   "source": "model.fit(X_train, y_train)",
   "id": "f804e3b798b6833",
   "outputs": [],
   "execution_count": null
  },
  {
   "metadata": {},
   "cell_type": "code",
   "source": "model.score(X_test, y_test)",
   "id": "c797a605266a91e7",
   "outputs": [],
   "execution_count": null
  },
  {
   "metadata": {},
   "cell_type": "markdown",
   "source": "### Explain with Dalex",
   "id": "9eda2c8d4eec2e3"
  },
  {
   "metadata": {},
   "cell_type": "code",
   "source": [
    "def pf_xgboost_classifier_categorical(model, df):\n",
    "    df.loc[:, df.dtypes == 'object'] = \\\n",
    "        df.select_dtypes(['object']) \\\n",
    "            .apply(lambda x: x.astype('category'))\n",
    "    return model.predict_proba(df)[:, 1]\n",
    "\n",
    "explainer = dx.Explainer(model, X, y, predict_function=pf_xgboost_classifier_categorical, label='XGBoost')"
   ],
   "id": "669ed5ffb40e1958",
   "outputs": [],
   "execution_count": null
  },
  {
   "metadata": {},
   "cell_type": "code",
   "source": "explainer.model_performance()",
   "id": "8828dde12b9f70fd",
   "outputs": [],
   "execution_count": null
  },
  {
   "metadata": {},
   "cell_type": "code",
   "source": "explainer.predict(X_test[0:10])",
   "id": "69d94a37cd621fb2",
   "outputs": [],
   "execution_count": null
  },
  {
   "metadata": {},
   "cell_type": "code",
   "source": "shap_attributions = [explainer.predict_parts(X.iloc[[i]], type=\"shap\", label=f'passenger {i}') for i in range(5)]",
   "id": "8dd4454f1166f63d",
   "outputs": [],
   "execution_count": null
  },
  {
   "metadata": {},
   "cell_type": "code",
   "source": "shap_attributions[0].plot(shap_attributions[1::])",
   "id": "26d0d6a57153f36c",
   "outputs": [],
   "execution_count": null
  },
  {
   "metadata": {},
   "cell_type": "code",
   "source": "bd_attributions = [explainer.predict_parts(X.iloc[[i]], type=\"break_down\", label=f'passenger {i}') for i in range(5)]",
   "id": "a72077ba4a28aa23",
   "outputs": [],
   "execution_count": null
  },
  {
   "metadata": {},
   "cell_type": "code",
   "source": "bd_attributions[0].plot(bd_attributions[1::])",
   "id": "67cb96a7756a485c",
   "outputs": [],
   "execution_count": null
  },
  {
   "metadata": {},
   "cell_type": "markdown",
   "source": "### Explain with SHAP",
   "id": "bbdfadd56d361afc"
  },
  {
   "metadata": {},
   "cell_type": "code",
   "source": [
    "# Need to convert the categorical columns to one-hot encoding\n",
    "X_ohe = pd.get_dummies(X, columns=['class', 'embarked'], drop_first=True)"
   ],
   "id": "f3879b162dc9c1f3",
   "outputs": [],
   "execution_count": null
  },
  {
   "metadata": {},
   "cell_type": "code",
   "source": "X_ohe.head()",
   "id": "cc6e77b5559d9917",
   "outputs": [],
   "execution_count": null
  },
  {
   "metadata": {},
   "cell_type": "code",
   "source": [
    "X_train_ohe, X_test_ohe, y_train, y_test = train_test_split(X_ohe, y, test_size=0.2, random_state=42)\n",
    "\n",
    "model_ohe = xgb.XGBClassifier(\n",
    "    n_estimators = 200,        # Number of trees to fit\n",
    "    max_depth = 4,             # Maximum tree depth for individual trees\n",
    "    use_label_encoder = False, # Leave this as False to avoid warnings\n",
    "    tree_method = 'hist'       # Use a histogram-based method for faster training\n",
    ")"
   ],
   "id": "9aec5a7afa1d3a4b",
   "outputs": [],
   "execution_count": null
  },
  {
   "metadata": {},
   "cell_type": "code",
   "source": "model_ohe.fit(X_train_ohe, y_train)",
   "id": "1f5caac7b48448a0",
   "outputs": [],
   "execution_count": null
  },
  {
   "metadata": {},
   "cell_type": "code",
   "source": "model_ohe.score(X_test_ohe, y_test)",
   "id": "22e56f7ef4a7a15",
   "outputs": [],
   "execution_count": null
  },
  {
   "metadata": {},
   "cell_type": "code",
   "source": "explainer_ohe = shap.explainers.Tree(model_ohe, data=X_train_ohe, model_output='probability')",
   "id": "d86d8d176bd969d0",
   "outputs": [],
   "execution_count": null
  },
  {
   "metadata": {},
   "cell_type": "code",
   "source": "shap_values = explainer_ohe.shap_values(X_test_ohe)",
   "id": "764478d81670c55",
   "outputs": [],
   "execution_count": null
  },
  {
   "metadata": {},
   "cell_type": "code",
   "source": "shap.summary_plot(shap_values, X_test_ohe)",
   "id": "cb927027cd6be051",
   "outputs": [],
   "execution_count": null
  },
  {
   "metadata": {},
   "cell_type": "code",
   "source": [
    "for i in range(5):\n",
    "    shap.force_plot(explainer_ohe.expected_value, shap_values[i], X_test_ohe.iloc[i], matplotlib=True)"
   ],
   "id": "ae897c4449cd916b",
   "outputs": [],
   "execution_count": null
  }
 ],
 "metadata": {
  "kernelspec": {
   "display_name": "Python 3",
   "language": "python",
   "name": "python3"
  },
  "language_info": {
   "codemirror_mode": {
    "name": "ipython",
    "version": 2
   },
   "file_extension": ".py",
   "mimetype": "text/x-python",
   "name": "python",
   "nbconvert_exporter": "python",
   "pygments_lexer": "ipython2",
   "version": "2.7.6"
  }
 },
 "nbformat": 4,
 "nbformat_minor": 5
}
